{
 "cells": [
  {
   "cell_type": "code",
   "execution_count": null,
   "id": "e3c78175",
   "metadata": {},
   "outputs": [],
   "source": [
    "import pandas as pd\n",
    "import numpy as np\n",
    "import time\n",
    "from termcolor import colored\n",
    "# Read in the data from the csv file\n",
    "df = pd.read_csv('AAPL.csv')\n",
    "# Reduce the column names to lower case\n",
    "df.columns = ['date', 'open', 'high', 'low', 'close', 'adjclose', 'volume']\n",
    "# compute the change to use as a guide in backtesting\n",
    "df['change'] = df['close'] - df['open']\n",
    "# populate the classifier\n",
    "df['ind'] = (df['high']/df['open']) -1\n",
    "# Initialize the weights\n",
    "param = np.linspace(-6,6,len(df))\n",
    "# Fire the neural network\n",
    "eta = 0\n",
    "while eta < 100:\n",
    "    for i in param:\n",
    "        alpha = 1/(1+np.exp(-i))\n",
    "        test = df[df['ind'] >= alpha]\n",
    "        if len(test) > 0:\n",
    "            pos = test[test['change'] > 0]\n",
    "            eta = len(pos)*100/len(test)\n",
    "            #time.sleep(1)\n",
    "            print(colored (i, 'green'), alpha, len(test), colored(eta, 'red'))\n",
    "            display(colored (i, 'green'), alpha, len(test), colored(eta, 'red'))\n",
    "        else:\n",
    "            pass\n",
    "else:\n",
    "    print('done classifying')"
   ]
  },
  {
   "cell_type": "code",
   "execution_count": null,
   "id": "1e829a51",
   "metadata": {},
   "outputs": [],
   "source": []
  }
 ],
 "metadata": {
  "kernelspec": {
   "display_name": "Python 3 (ipykernel)",
   "language": "python",
   "name": "python3"
  },
  "language_info": {
   "codemirror_mode": {
    "name": "ipython",
    "version": 3
   },
   "file_extension": ".py",
   "mimetype": "text/x-python",
   "name": "python",
   "nbconvert_exporter": "python",
   "pygments_lexer": "ipython3",
   "version": "3.8.10"
  }
 },
 "nbformat": 4,
 "nbformat_minor": 5
}
