{
 "cells": [
  {
   "cell_type": "code",
   "execution_count": 1,
   "id": "fc6b91ec",
   "metadata": {},
   "outputs": [],
   "source": [
    "import pandas as pd\n",
    "import numpy as np\n",
    "import time"
   ]
  },
  {
   "cell_type": "code",
   "execution_count": 3,
   "id": "cb9dc66f",
   "metadata": {
    "scrolled": false
   },
   "outputs": [
    {
     "data": {
      "text/html": [
       "<div>\n",
       "<style scoped>\n",
       "    .dataframe tbody tr th:only-of-type {\n",
       "        vertical-align: middle;\n",
       "    }\n",
       "\n",
       "    .dataframe tbody tr th {\n",
       "        vertical-align: top;\n",
       "    }\n",
       "\n",
       "    .dataframe thead th {\n",
       "        text-align: right;\n",
       "    }\n",
       "</style>\n",
       "<table border=\"1\" class=\"dataframe\">\n",
       "  <thead>\n",
       "    <tr style=\"text-align: right;\">\n",
       "      <th></th>\n",
       "      <th>Date</th>\n",
       "      <th>Open</th>\n",
       "      <th>High</th>\n",
       "      <th>Low</th>\n",
       "      <th>Close</th>\n",
       "      <th>Adj Close</th>\n",
       "      <th>Volume</th>\n",
       "    </tr>\n",
       "  </thead>\n",
       "  <tbody>\n",
       "    <tr>\n",
       "      <th>0</th>\n",
       "      <td>2019-06-10</td>\n",
       "      <td>47.952499</td>\n",
       "      <td>48.842499</td>\n",
       "      <td>47.904999</td>\n",
       "      <td>48.145000</td>\n",
       "      <td>47.119289</td>\n",
       "      <td>104883600</td>\n",
       "    </tr>\n",
       "    <tr>\n",
       "      <th>1</th>\n",
       "      <td>2019-06-11</td>\n",
       "      <td>48.715000</td>\n",
       "      <td>49.000000</td>\n",
       "      <td>48.400002</td>\n",
       "      <td>48.702499</td>\n",
       "      <td>47.664913</td>\n",
       "      <td>107731600</td>\n",
       "    </tr>\n",
       "    <tr>\n",
       "      <th>2</th>\n",
       "      <td>2019-06-12</td>\n",
       "      <td>48.487499</td>\n",
       "      <td>48.992500</td>\n",
       "      <td>48.347500</td>\n",
       "      <td>48.547501</td>\n",
       "      <td>47.513214</td>\n",
       "      <td>73012800</td>\n",
       "    </tr>\n",
       "    <tr>\n",
       "      <th>3</th>\n",
       "      <td>2019-06-13</td>\n",
       "      <td>48.674999</td>\n",
       "      <td>49.197498</td>\n",
       "      <td>48.400002</td>\n",
       "      <td>48.537498</td>\n",
       "      <td>47.503426</td>\n",
       "      <td>86698400</td>\n",
       "    </tr>\n",
       "    <tr>\n",
       "      <th>4</th>\n",
       "      <td>2019-06-14</td>\n",
       "      <td>47.887501</td>\n",
       "      <td>48.397499</td>\n",
       "      <td>47.575001</td>\n",
       "      <td>48.185001</td>\n",
       "      <td>47.158440</td>\n",
       "      <td>75046000</td>\n",
       "    </tr>\n",
       "  </tbody>\n",
       "</table>\n",
       "</div>"
      ],
      "text/plain": [
       "         Date       Open       High        Low      Close  Adj Close  \\\n",
       "0  2019-06-10  47.952499  48.842499  47.904999  48.145000  47.119289   \n",
       "1  2019-06-11  48.715000  49.000000  48.400002  48.702499  47.664913   \n",
       "2  2019-06-12  48.487499  48.992500  48.347500  48.547501  47.513214   \n",
       "3  2019-06-13  48.674999  49.197498  48.400002  48.537498  47.503426   \n",
       "4  2019-06-14  47.887501  48.397499  47.575001  48.185001  47.158440   \n",
       "\n",
       "      Volume  \n",
       "0  104883600  \n",
       "1  107731600  \n",
       "2   73012800  \n",
       "3   86698400  \n",
       "4   75046000  "
      ]
     },
     "execution_count": 3,
     "metadata": {},
     "output_type": "execute_result"
    }
   ],
   "source": [
    "df = pd.read_csv('AAPL.csv')\n",
    "df.head()"
   ]
  },
  {
   "cell_type": "code",
   "execution_count": null,
   "id": "d48e5583",
   "metadata": {},
   "outputs": [],
   "source": []
  },
  {
   "cell_type": "code",
   "execution_count": null,
   "id": "87eaf67a",
   "metadata": {},
   "outputs": [],
   "source": []
  },
  {
   "cell_type": "code",
   "execution_count": null,
   "id": "a959d5fa",
   "metadata": {},
   "outputs": [],
   "source": []
  },
  {
   "cell_type": "code",
   "execution_count": null,
   "id": "e5d7eb57",
   "metadata": {},
   "outputs": [],
   "source": []
  },
  {
   "cell_type": "code",
   "execution_count": null,
   "id": "a4a113a4",
   "metadata": {},
   "outputs": [],
   "source": []
  },
  {
   "cell_type": "code",
   "execution_count": null,
   "id": "65c295d4",
   "metadata": {},
   "outputs": [],
   "source": []
  },
  {
   "cell_type": "code",
   "execution_count": null,
   "id": "e2c48097",
   "metadata": {},
   "outputs": [],
   "source": []
  },
  {
   "cell_type": "code",
   "execution_count": null,
   "id": "7e8222cb",
   "metadata": {},
   "outputs": [],
   "source": []
  }
 ],
 "metadata": {
  "kernelspec": {
   "display_name": "Python 3 (ipykernel)",
   "language": "python",
   "name": "python3"
  },
  "language_info": {
   "codemirror_mode": {
    "name": "ipython",
    "version": 3
   },
   "file_extension": ".py",
   "mimetype": "text/x-python",
   "name": "python",
   "nbconvert_exporter": "python",
   "pygments_lexer": "ipython3",
   "version": "3.8.10"
  }
 },
 "nbformat": 4,
 "nbformat_minor": 5
}
